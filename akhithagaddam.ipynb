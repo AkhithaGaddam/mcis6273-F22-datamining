{
 "cells": [
  {
   "cell_type": "markdown",
   "metadata": {},
   "source": [
    "## Zotero Account\n",
    "\n",
    "* **Zotero username:** AkhithaGaddam\n",
    "* **Zotero Email:** agaddam2483@muleriders.saumag.edu"
   ]
  },
  {
   "cell_type": "markdown",
   "metadata": {},
   "source": [
    "## What do you wish to accomplish this semester in Data Mining?\n",
    "\n",
    "* I wish to gain good knowledge on***DataMining* course**.\n",
    "* I would like to improve my python coding skills by doing ***assignments and continuous practic.***\n",
    "* Learn multiple tools like ***Jupyter Notebook,gitbub,git*** etc."
   ]
  },
  {
   "cell_type": "markdown",
   "metadata": {},
   "source": [
    "## PLEASE ANSWER THE FOLLOWING QUESTIONS AFTER LISTENING TO THE PODCAST:\n",
    "\n",
    "**Three things learned from the podcast.**\n",
    "\n",
    "* The growing demand and popularity for Jupyter notebooks\n",
    "* Jupyter is an open-source web tool used as a development environment for coding and data analysis.\n",
    "* Different types of Notebooks Available:\n",
    "  Google Jupyter Notebooks\n",
    "  Microsoft Azure Notebooks\n",
    "  Sage Notebooks\n",
    "* Advantages of Jupyter Notebooks over other coding languages like Javascript\n",
    "\n",
    "\n",
    "**What is your reaction to the podcast? Pick at least one point Adam brought up in the interview that you agree with and list your reason why?**\n",
    "   \n",
    "Adam has brought up many points during the podcast based on his research.\n",
    "One of the interesting point is ,how much percentage of people are creating notebooks and using on \tgithub versus how much it is intended for other people to actually consume those.\n",
    "For the above question,Adam has added some valid points based on his experience and research.\n",
    "In some scenarios,people create repositories for themselves which are meant for different purpoes and they are actually not intended or created for others to consider it as a reference or use it.Adam Analysis was to identify how people are describing the projects and what are key words they are  looking for.In the keyword search ,he has removed words like notebooks,github and the top words he found is machine learning,Nanodegree etc.This indicates that lot of people are learning machine learning,how to to data analysis and doing online assessments and hosting their results & outputs online.Lot of this seem to me very educative and informative. I agree with Adam's Analysis on how the notebooks are used for different purposes.\n",
    "For instance we create our own github repo for our course learning and share the assignment work with the professor at university by make it public .This kind of learning gives a lot more flexibility and we no need to set up the environment,install softwares but we just need to share the notebook url statically.It is one of the best way to share results between people.It will be easier for one to reproduce the same results on different hosts as the notebooks on github has code mixed with description and there is no need of any other traditional document apart Notebooks.\n",
    "\n",
    "\n",
    "**After listening to the podcast, do you think you are more interested or less interested in learning from Jupyter notebooks on Github?**\n",
    "\n",
    "After going through the podcast,I really felt it as very interesting to use Jupyter Notebooks on github for learning different data technologies.Github is a great platform to learn many skills because of its advantages like versioning,track the changes,great articles,excellent documentation.\n"
   ]
  }
 ],
 "metadata": {
  "kernelspec": {
   "display_name": "Python 3.9.4 64-bit",
   "language": "python",
   "name": "python3"
  },
  "language_info": {
   "codemirror_mode": {
    "name": "ipython",
    "version": 3
   },
   "file_extension": ".py",
   "mimetype": "text/x-python",
   "name": "python",
   "nbconvert_exporter": "python",
   "pygments_lexer": "ipython3",
   "version": "3.9.4"
  },
  "orig_nbformat": 4,
  "vscode": {
   "interpreter": {
    "hash": "1f9f6abe1e4071c96985a722f79266aba870bba77eb89b0a5ab5b26be17d7c68"
   }
  }
 },
 "nbformat": 4,
 "nbformat_minor": 2
}
